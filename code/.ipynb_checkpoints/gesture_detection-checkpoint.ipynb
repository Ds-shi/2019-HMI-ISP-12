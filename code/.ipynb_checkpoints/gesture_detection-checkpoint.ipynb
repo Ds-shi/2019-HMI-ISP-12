{
 "cells": [
  {
   "cell_type": "code",
   "execution_count": 5,
   "metadata": {},
   "outputs": [
    {
     "name": "stdout",
     "output_type": "stream",
     "text": [
      "Please select\n",
      "The num of finger is: 5\n"
     ]
    }
   ],
   "source": [
    "from aip import AipBodyAnalysis\n",
    "import cv2\n",
    "\n",
    "def get_file_content(filePath):\n",
    "    with open(filePath,'rb') as fp:\n",
    "        return fp.read()\n",
    "\n",
    "    \n",
    "def finger():  \n",
    "    while camera.isOpened():\n",
    "        ret, frame = camera.read()\n",
    "        cv2.imwrite('a.jpg',frame)\n",
    "        cv2.imshow('a.jpg',frame)\n",
    "        img=get_file_content('a.jpg')\n",
    "        a=client.gesture(img)\n",
    "        if(len(a)==3 ):\n",
    "            if(a['result']!=[]):\n",
    "                #print(a)\n",
    "                #print(a['result'][0]['classname'])\n",
    "                if (a['result'][0]['classname']=='Fist'):\n",
    "                    return 0\n",
    "                if (a['result'][0]['classname']=='One'):\n",
    "                     return 1\n",
    "                if (a['result'][0]['classname']=='Two'):\n",
    "                     return 2\n",
    "                if (a['result'][0]['classname']=='Three' or a['result'][0]['classname']=='Ok'):\n",
    "                    return 3\n",
    "                if (a['result'][0]['classname']=='Four'):\n",
    "                     return 4\n",
    "                if (a['result'][0]['classname']=='Five'):\n",
    "                     return 5\n",
    "\n",
    "API_ID = '17377687'  \n",
    "API_KEY = 'yZKK9Qyi8VphSjq0cdUZ0bqm'\n",
    "SECRET_KEY = 'KfScBXN8AaQuGhkY7ZHYZE1bvQ7Xk7Me'\n",
    "client = AipBodyAnalysis(API_ID,API_KEY,SECRET_KEY)  # 建立连接         \n",
    "camera = cv2.VideoCapture(0)   #打开电脑自带摄像头，如果参数是1会打开外接摄像头\n",
    "camera.set(10, 200)   #设置视频属性\n",
    "while 1:\n",
    "    print(\"Please select\")\n",
    "    finger_num=finger()\n",
    "    print('The num of finger is:',finger_num)\n",
    "    \n",
    "    # 输入的键盘值\n",
    "    k = cv2.waitKey(1)\n",
    "    if k == 27:  # 按下ESC退出\n",
    "        break\n",
    "   \n",
    "        \n",
    "camera.release()\n",
    "cv2.destroyAllWindows() "
   ]
  },
  {
   "cell_type": "code",
   "execution_count": 3,
   "metadata": {},
   "outputs": [],
   "source": [
    "camera.release()"
   ]
  },
  {
   "cell_type": "code",
   "execution_count": null,
   "metadata": {},
   "outputs": [],
   "source": []
  }
 ],
 "metadata": {
  "kernelspec": {
   "display_name": "Python 3",
   "language": "python",
   "name": "python3"
  },
  "language_info": {
   "codemirror_mode": {
    "name": "ipython",
    "version": 3
   },
   "file_extension": ".py",
   "mimetype": "text/x-python",
   "name": "python",
   "nbconvert_exporter": "python",
   "pygments_lexer": "ipython3",
   "version": "3.7.3"
  }
 },
 "nbformat": 4,
 "nbformat_minor": 2
}
