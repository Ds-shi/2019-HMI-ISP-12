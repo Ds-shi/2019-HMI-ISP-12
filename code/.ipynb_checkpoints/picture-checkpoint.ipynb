{
 "cells": [
  {
   "cell_type": "code",
   "execution_count": 14,
   "metadata": {},
   "outputs": [],
   "source": [
    "import cv2\n",
    "import time"
   ]
  },
  {
   "cell_type": "code",
   "execution_count": 25,
   "metadata": {},
   "outputs": [],
   "source": [
    "\n",
    "def style_transfer(pathIn='',\n",
    "                   pathOut='',\n",
    "                   model='',\n",
    "                   width=None,\n",
    "                   jpg_quality=80):\n",
    "   \n",
    "    ## 读入原始图片，调整图片至所需尺寸，然后获取图片的宽度和高度\n",
    "    img = cv2.imread(pathIn)\n",
    "    (h, w) = img.shape[:2]\n",
    "    if width is not None:\n",
    "        img = cv2.resize(img, (width, round(width*h/w)), interpolation=cv2.INTER_CUBIC)\n",
    "        (h, w) = img.shape[:2]\n",
    "    \n",
    "    ## 从本地加载预训练模型\n",
    "    print('加载预训练模型......')\n",
    "    net = cv2.dnn.readNetFromTorch(model)\n",
    "    \n",
    "    ## 将图片构建成一个blob：设置图片尺寸，将各通道像素值减去平均值（比如ImageNet所有训练样本各通道统计平均值）\n",
    "    ## 然后执行一次前馈网络计算，并输出计算所需的时间\n",
    "    blob = cv2.dnn.blobFromImage(img, 1.0, (w, h), (103.939, 116.779, 123.680), swapRB=False, crop=False)\n",
    "    net.setInput(blob)\n",
    "    start = time.time()\n",
    "    output = net.forward()\n",
    "    end = time.time()\n",
    "    print(\"风格迁移花费：{:.2f}秒\".format(end - start))\n",
    "\n",
    "    ## reshape输出结果, 将减去的平均值加回来，并交换各颜色通道\n",
    "    output = output.reshape((3, output.shape[2], output.shape[3]))\n",
    "    output[0] += 103.939\n",
    "    output[1] += 116.779\n",
    "    output[2] += 123.680\n",
    "    output = output.transpose(1, 2, 0)\n",
    "    \n",
    "    ## 输出风格化后的图片\n",
    "    cv2.imwrite(pathOut, output, [int(cv2.IMWRITE_JPEG_QUALITY), jpg_quality])"
   ]
  },
  {
   "cell_type": "code",
   "execution_count": 31,
   "metadata": {},
   "outputs": [
    {
     "name": "stdout",
     "output_type": "stream",
     "text": [
      "加载预训练模型......\n",
      "风格迁移花费：1.40秒\n"
     ]
    }
   ],
   "source": [
    "pathIn ='D:\\jupyter\\homework\\data\\img01.jpg'\n",
    "pathOut = 'D:\\jupyter\\homework\\data\\img02.jpg'\n",
    "model ='D:\\jupyter\\homework\\model\\starry_night.t7'\n",
    "style_transfer(pathIn, pathOut, model)"
   ]
  },
  {
   "cell_type": "code",
   "execution_count": null,
   "metadata": {},
   "outputs": [],
   "source": []
  }
 ],
 "metadata": {
  "kernelspec": {
   "display_name": "Python 3",
   "language": "python",
   "name": "python3"
  },
  "language_info": {
   "codemirror_mode": {
    "name": "ipython",
    "version": 3
   },
   "file_extension": ".py",
   "mimetype": "text/x-python",
   "name": "python",
   "nbconvert_exporter": "python",
   "pygments_lexer": "ipython3",
   "version": "3.7.3"
  }
 },
 "nbformat": 4,
 "nbformat_minor": 2
}
