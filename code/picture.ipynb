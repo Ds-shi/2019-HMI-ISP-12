{
 "cells": [
  {
   "cell_type": "code",
   "execution_count": 1,
   "metadata": {},
   "outputs": [],
   "source": [
    "import cv2\n",
    "import time"
   ]
  },
  {
   "cell_type": "code",
   "execution_count": 2,
   "metadata": {},
   "outputs": [],
   "source": [
    "def style_transfer(model,\n",
    "                    img,\n",
    "                   #pathOut='',\n",
    "                   width=None,\n",
    "                   jpg_quality=80,\n",
    "                    ):\n",
    "    ## 从本地加载预训练模型\n",
    "    print('加载预训练模型......')\n",
    "    #print(pathIn)\n",
    "    ## 读入原始图片，调整图片至所需尺寸，然后获取图片的宽度和高度\n",
    "    #img = cv2.imread(pathIn)\n",
    "    (h, w) = img.shape[:2]\n",
    "    if width is not None:\n",
    "        img = cv2.resize(img, (width, round(width*h/w)), interpolation=cv2.INTER_CUBIC)\n",
    "        (h, w) = img.shape[:2]\n",
    "\n",
    "    ## 将图片构建成一个blob：设置图片尺寸，将各通道像素值减去平均值（比如ImageNet所有训练样本各通道统计平均值）\n",
    "    ## 然后执行一次前馈网络计算，并输出计算所需的时间\n",
    "    blob = cv2.dnn.blobFromImage(img, 1.0, (w, h), (103.939, 116.779, 123.680), swapRB=False, crop=False)\n",
    "    model.setInput(blob)\n",
    "    start = time.time()\n",
    "    output = model.forward()\n",
    "    end = time.time()\n",
    "    print(\"风格迁移花费：{:.2f}秒\".format(end - start))\n",
    "\n",
    "    ## reshape输出结果, 将减去的平均值加回来，并交换各颜色通道\n",
    "    output = output.reshape((3, output.shape[2], output.shape[3]))\n",
    "    output[0] += 103.939\n",
    "    output[1] += 116.779\n",
    "    output[2] += 123.680\n",
    "    output = output.transpose(1, 2, 0)\n",
    "    return output\n",
    "    ## 输出风格化后的图片\n",
    "   # cv2.imwrite(pathOut, output, [int(cv2.IMWRITE_JPEG_QUALITY), jpg_quality])"
   ]
  },
  {
   "cell_type": "code",
   "execution_count": 4,
   "metadata": {},
   "outputs": [
    {
     "name": "stdout",
     "output_type": "stream",
     "text": [
      "加载预训练模型......\n",
      "风格迁移花费：1.25秒\n",
      "[[[ 64.70182  106.48842  130.61891 ]\n",
      "  [ 67.73513  109.46234  135.1055  ]\n",
      "  [ 65.86055  106.25013  135.28845 ]\n",
      "  ...\n",
      "  [ 70.102394 109.590294 155.32652 ]\n",
      "  [ 78.339264 121.125244 150.41663 ]\n",
      "  [ 77.15828  121.39548  139.20099 ]]\n",
      "\n",
      " [[ 64.852875 104.31728  128.09854 ]\n",
      "  [ 70.17753  109.66502  134.6726  ]\n",
      "  [ 65.909546 105.39935  134.52344 ]\n",
      "  ...\n",
      "  [ 65.94777   96.480034 148.56262 ]\n",
      "  [ 75.734955 109.625854 140.45123 ]\n",
      "  [ 78.77306  115.6875   132.07826 ]]\n",
      "\n",
      " [[ 63.539623 104.07092  121.3374  ]\n",
      "  [ 67.93464  108.24251  123.781975]\n",
      "  [ 64.65667  103.57506  126.05962 ]\n",
      "  ...\n",
      "  [ 71.34028   94.65486  155.92831 ]\n",
      "  [ 79.8799   109.03053  141.67448 ]\n",
      "  [ 80.521416 114.853966 126.86297 ]]\n",
      "\n",
      " ...\n",
      "\n",
      " [[ 84.70244  126.449615 123.75382 ]\n",
      "  [ 82.50543  117.77429   97.79033 ]\n",
      "  [ 80.924286 104.99281   98.18144 ]\n",
      "  ...\n",
      "  [100.32706  123.70728  144.06206 ]\n",
      "  [125.96835  154.5145   163.25858 ]\n",
      "  [107.57076  141.96454  157.09732 ]]\n",
      "\n",
      " [[ 65.7883   108.24334  114.96861 ]\n",
      "  [ 66.00162  105.83348   93.73103 ]\n",
      "  [ 74.45432  100.5817   101.1828  ]\n",
      "  ...\n",
      "  [ 98.57803  119.59221  102.6836  ]\n",
      "  [116.80967  137.35683  123.98166 ]\n",
      "  [108.562065 137.09879  139.28282 ]]\n",
      "\n",
      " [[ 57.487022 100.667076 122.71152 ]\n",
      "  [ 55.01381   98.79402  106.360855]\n",
      "  [ 64.573105  97.921455 113.075966]\n",
      "  ...\n",
      "  [ 81.835686  95.332306  71.98572 ]\n",
      "  [ 91.87895  103.27344   87.94347 ]\n",
      "  [ 91.91015  114.0699   106.80535 ]]]\n"
     ]
    }
   ],
   "source": [
    "pathIn ='D:\\jupyter\\homework\\data/1.jpg'\n",
    "pathOut = 'D:\\jupyter\\homework\\data/d4.jpg'\n",
    "#model_path ='D:\\jupyter\\homework\\model\\starry_night.t7'\n",
    "model_path ='D:\\jupyter\\homework/model/the_scream.t7'\n",
    "model = cv2.dnn.readNetFromTorch(model_path)\n",
    "img=cv2.imread(pathIn)\n",
    "a=style_transfer(model,img)\n",
    "print(a)"
   ]
  },
  {
   "cell_type": "code",
   "execution_count": null,
   "metadata": {},
   "outputs": [],
   "source": []
  }
 ],
 "metadata": {
  "kernelspec": {
   "display_name": "Python 3",
   "language": "python",
   "name": "python3"
  },
  "language_info": {
   "codemirror_mode": {
    "name": "ipython",
    "version": 3
   },
   "file_extension": ".py",
   "mimetype": "text/x-python",
   "name": "python",
   "nbconvert_exporter": "python",
   "pygments_lexer": "ipython3",
   "version": "3.7.3"
  }
 },
 "nbformat": 4,
 "nbformat_minor": 2
}
